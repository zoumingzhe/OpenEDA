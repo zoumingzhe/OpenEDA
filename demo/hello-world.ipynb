{
 "cells": [
  {
   "cell_type": "markdown",
   "metadata": {},
   "source": [
    "# Open-EDI Python Demo ----- Hello World"
   ]
  },
  {
   "cell_type": "markdown",
   "metadata": {},
   "source": [
    "import openedi\n",
    "\n",
    "If failed, check whether the python version for jupyter-notebook and that for building the project are consistent"
   ]
  },
  {
   "cell_type": "code",
   "execution_count": null,
   "metadata": {},
   "outputs": [],
   "source": [
    "import sys\n",
    "module_dir = [\"../lib/\", \"./lib/\", \"../build/edi/python/\"] # find from install_dir or build_dir\n",
    "sys.path.extend(module_dir)\n",
    "import openedi as edi\n",
    "\n",
    "edi.ediPrint(edi.MessageType.kInfo, \"Hello World.\\n\")"
   ]
  },
  {
   "cell_type": "markdown",
   "metadata": {},
   "source": [
    "创建一个database"
   ]
  },
  {
   "cell_type": "code",
   "execution_count": null,
   "metadata": {},
   "outputs": [],
   "source": [
    "db = edi.db.Database()"
   ]
  },
  {
   "cell_type": "markdown",
   "metadata": {},
   "source": [
    "创建一个model, 并添加相应model term"
   ]
  },
  {
   "cell_type": "code",
   "execution_count": null,
   "metadata": {},
   "outputs": [],
   "source": [
    "m0 = db.addModel(\"model0\")\n",
    "m0.setModelType(edi.ModelType.kCell)\n",
    "mt0 = m0.addTerm(\"term0\")\n",
    "mt0.setSignalDirect(edi.SignalDirection.kInput)\n",
    "mt1= m0.addTerm(\"term1\")\n",
    "mt1.setSignalDirect(edi.SignalDirection.kOutput)"
   ]
  },
  {
   "cell_type": "markdown",
   "metadata": {},
   "source": [
    "创建一个design"
   ]
  },
  {
   "cell_type": "code",
   "execution_count": null,
   "metadata": {},
   "outputs": [],
   "source": [
    "design = db.getDesign()"
   ]
  },
  {
   "cell_type": "markdown",
   "metadata": {},
   "source": [
    "在design里创建两个instances"
   ]
  },
  {
   "cell_type": "code",
   "execution_count": null,
   "metadata": {},
   "outputs": [],
   "source": [
    "inst0 = design.addInst()\n",
    "inst0.getAttr().setName(\"inst0\")\n",
    "p0 = edi.geo.Point2DInt(0, 1)\n",
    "inst0.getAttr().setLoc(p0)\n",
    "inst0.addModel(m0)\n",
    "\n",
    "attr1 = edi.db.InstAttr()\n",
    "attr1.setName(\"inst1\")\n",
    "p1 = edi.geo.Point2DInt(2, 3)\n",
    "attr1.setLoc(p1)\n",
    "inst1 = design.addInst(attr1)\n",
    "inst1.addModel(m0)"
   ]
  },
  {
   "cell_type": "markdown",
   "metadata": {},
   "source": [
    "创建相应instance terms， 并连接至一个net"
   ]
  },
  {
   "cell_type": "code",
   "execution_count": null,
   "metadata": {},
   "outputs": [],
   "source": [
    "net0 = design.addNet()\n",
    "net0.getAttr().setName(\"net0\")\n",
    "\n",
    "inst_term0 = design.addInstTerm()\n",
    "inst_term0.getAttr().setModelTerm(mt0)\n",
    "inst_term0.setInst(inst0)\n",
    "inst_term0.setNet(net0)\n",
    "inst0.addInstTerm(inst_term0)\n",
    "net0.addInstTerm(inst_term0)\n",
    "\n",
    "inst_term1 = design.addInstTerm()\n",
    "inst_term1.getAttr().setModelTerm(mt1)\n",
    "inst_term1.setInst(inst1)\n",
    "inst_term1.setNet(net0)\n",
    "inst1.addInstTerm(inst_term1)\n",
    "net0.addInstTerm(inst_term1)"
   ]
  },
  {
   "cell_type": "markdown",
   "metadata": {},
   "source": [
    "将database写入文件"
   ]
  },
  {
   "cell_type": "code",
   "execution_count": null,
   "metadata": {},
   "outputs": [],
   "source": [
    "filename = \"demo_db.txt\"\n",
    "edi.db.write(db, filename, 0) # 0 means ascii mode, 1 means binary mode"
   ]
  },
  {
   "cell_type": "markdown",
   "metadata": {},
   "source": [
    "从文件读入database"
   ]
  },
  {
   "cell_type": "code",
   "execution_count": null,
   "metadata": {},
   "outputs": [],
   "source": [
    "db2 = edi.db.Database()\n",
    "edi.db.read(db2, filename, 0) # 0 means ascii mode, 1 means binary mode\n",
    "print(\"We have %d models in db2.\" % (db2.numModels())) # =1\n",
    "print(\"We have %d insts in db2.design_.\" % (db2.getDesign().numInsts())) # =2\n",
    "print(\"We have %d nets in db2.design_.\" % (db2.getDesign().numNets())) # =1\n",
    "print(\"We have %d inst_terms in db2.design_.\" % (db2.getDesign().numInstTerms())) # =2"
   ]
  }
 ],
 "metadata": {
  "kernelspec": {
   "display_name": "Python 2",
   "language": "python",
   "name": "python2"
  }
 },
 "nbformat": 4,
 "nbformat_minor": 2
}
