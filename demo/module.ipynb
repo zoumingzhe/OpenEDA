{
 "cells": [
  {
   "cell_type": "markdown",
   "metadata": {},
   "source": [
    "# Open-EDI Python Demo ----- Module"
   ]
  },
  {
   "cell_type": "markdown",
   "metadata": {},
   "source": [
    "import openedi\n",
    "\n",
    "If failed, check whether the python version for jupyter-notebook and that for building the project are consistent"
   ]
  },
  {
   "cell_type": "code",
   "execution_count": null,
   "metadata": {},
   "outputs": [],
   "source": [
    "# import and create database\n",
    "import sys\n",
    "module_dir = [\"../lib/\", \"./lib/\", \"../build/edi/python/\"] # find from install_dir or build_dir\n",
    "sys.path.extend(module_dir)\n",
    "import openedi as edi\n",
    "\n",
    "db = edi.db.Database()"
   ]
  },
  {
   "cell_type": "markdown",
   "metadata": {},
   "source": [
    "创建cell model"
   ]
  },
  {
   "cell_type": "code",
   "execution_count": null,
   "metadata": {},
   "outputs": [],
   "source": [
    "model0 = db.addModel(\"model0\")\n",
    "mt0_0 = model0.addTerm(\"m0-term0\")\n",
    "mt0_0.setSignalDirect(edi.SignalDirection.kInput)\n",
    "mt0_1 = model0.addTerm(\"m0-term1\")\n",
    "mt0_1.setSignalDirect(edi.SignalDirection.kOutput)\n",
    "\n",
    "model1 = db.addModel(\"model1\")\n",
    "mt1_0 = model1.addTerm(\"m1-term0\")\n",
    "mt1_0.setSignalDirect(edi.SignalDirection.kInput)\n",
    "mt1_1 = model1.addTerm(\"m1-term1\")\n",
    "mt1_1.setSignalDirect(edi.SignalDirection.kInput)\n",
    "mt1_2 = model1.addTerm(\"m1-term1\")\n",
    "mt1_2.setSignalDirect(edi.SignalDirection.kOutput)"
   ]
  },
  {
   "cell_type": "markdown",
   "metadata": {},
   "source": [
    "创建module model的model-term models, 用于module的model terms与内部instance terms连接成nets"
   ]
  },
  {
   "cell_type": "code",
   "execution_count": null,
   "metadata": {},
   "outputs": [],
   "source": [
    "model2_mterm0 = db.addModel(\"model2_mterm0\")\n",
    "mt2_t0 = model2_mterm0.addTerm(\"model2-term0\")\n",
    "mt2_t0.setSignalDirect(edi.SignalDirection.kOutput)\n",
    "model2_mterm0.setModelType(edi.ModelType.kModelTerm)\n",
    "\n",
    "model2_mterm1 = db.addModel(\"model2_mterm1\")\n",
    "mt2_t1 = model2_mterm1.addTerm(\"model2-term1\")\n",
    "mt2_t1.setSignalDirect(edi.SignalDirection.kOutput)\n",
    "model2_mterm1.setModelType(edi.ModelType.kModelTerm)\n",
    "\n",
    "model2_mterm2 = db.addModel(\"model2_mterm2\")\n",
    "mt2_t2 = model2_mterm2.addTerm(\"model2-term2\")\n",
    "mt2_t2.setSignalDirect(edi.SignalDirection.kInput)\n",
    "model2_mterm2.setModelType(edi.ModelType.kModelTerm)"
   ]
  },
  {
   "cell_type": "markdown",
   "metadata": {},
   "source": [
    "创建module model"
   ]
  },
  {
   "cell_type": "code",
   "execution_count": null,
   "metadata": {},
   "outputs": [],
   "source": [
    "model2 = db.addModel(\"model2\")\n",
    "mt2_0 = model2.addTerm(\"model2-term0\")\n",
    "mt2_0.setSignalDirect(edi.SignalDirection.kInput)\n",
    "mt2_1 = model2.addTerm(\"model2-term1\")\n",
    "mt2_1.setSignalDirect(edi.SignalDirection.kInput)\n",
    "mt2_2 = model2.addTerm(\"model2-term2\")\n",
    "mt2_2.setSignalDirect(edi.SignalDirection.kOutput)\n",
    "model2.setModelType(edi.ModelType.kModule)"
   ]
  },
  {
   "cell_type": "markdown",
   "metadata": {},
   "source": [
    "创建model2的internal design"
   ]
  },
  {
   "cell_type": "code",
   "execution_count": null,
   "metadata": {},
   "outputs": [],
   "source": [
    "m2_design = model2.addDesign(\"m2-d\")"
   ]
  },
  {
   "cell_type": "markdown",
   "metadata": {},
   "source": [
    "创建design里的instances"
   ]
  },
  {
   "cell_type": "code",
   "execution_count": null,
   "metadata": {},
   "outputs": [],
   "source": [
    "i_attr = edi.db.InstAttr()\n",
    "\n",
    "i_attr.setName(\"inst0\")\n",
    "inst0 = m2_design.addInst(i_attr)\n",
    "inst0.addModel(model0)\n",
    "\n",
    "i_attr.setName(\"inst1\")\n",
    "inst1 = m2_design.addInst(i_attr)\n",
    "inst1.addModel(model0)\n",
    "\n",
    "i_attr.setName(\"inst2\")\n",
    "inst2 = m2_design.addInst(i_attr)\n",
    "inst2.addModel(model1)"
   ]
  },
  {
   "cell_type": "markdown",
   "metadata": {},
   "source": [
    "创建model terms对应的instances"
   ]
  },
  {
   "cell_type": "code",
   "execution_count": null,
   "metadata": {},
   "outputs": [],
   "source": [
    "m2_design.setInitModelTerms(3)\n",
    "\n",
    "i_attr.setName(\"inst_mterm0\")\n",
    "inst_mterm0 = m2_design.addInst(i_attr)\n",
    "inst_mterm0.addModel(model2_mterm0)\n",
    "m2_design.setInstModelTerm(0, m2_design.numInsts() - 1)\n",
    "\n",
    "i_attr.setName(\"inst_mterm1\")\n",
    "inst_mterm1 = m2_design.addInst(i_attr)\n",
    "inst_mterm1.addModel(model2_mterm1)\n",
    "m2_design.setInstModelTerm(1, m2_design.numInsts() - 1)\n",
    "\n",
    "i_attr.setName(\"inst_mterm3\")\n",
    "inst_mterm2 = m2_design.addInst(i_attr)\n",
    "inst_mterm2.addModel(model2_mterm2)\n",
    "m2_design.setInstModelTerm(2, m2_design.numInsts() - 1)"
   ]
  },
  {
   "cell_type": "markdown",
   "metadata": {},
   "source": [
    "创建internal nets"
   ]
  },
  {
   "cell_type": "code",
   "execution_count": null,
   "metadata": {},
   "outputs": [],
   "source": [
    "net0 = m2_design.addNet()\n",
    "net0.getAttr().setName(\"net0\")\n",
    "inst_term0 = m2_design.addInstTerm()\n",
    "inst_term0.getAttr().setModelTerm(mt2_t0)\n",
    "inst_term0.setNet(net0)\n",
    "inst_term0.setInst(inst_mterm0)\n",
    "net0.addInstTerm(inst_term0)\n",
    "inst_mterm0.addInstTerm(inst_term0)\n",
    "inst_term1 = m2_design.addInstTerm()\n",
    "inst_term1.getAttr().setModelTerm(mt0_0)\n",
    "inst_term1.setInst(inst0)\n",
    "inst_term1.setNet(net0)\n",
    "net0.addInstTerm(inst_term1)\n",
    "inst0.addInstTerm(inst_term1)\n",
    "\n",
    "net1 = m2_design.addNet()\n",
    "net1.getAttr().setName(\"net1\")\n",
    "inst_term0 = m2_design.addInstTerm()\n",
    "inst_term0.getAttr().setModelTerm(mt2_t1)\n",
    "inst_term0.setNet(net1)\n",
    "inst_term0.setInst(inst_mterm1)\n",
    "net1.addInstTerm(inst_term0)\n",
    "inst_mterm1.addInstTerm(inst_term0)\n",
    "inst_term1 = m2_design.addInstTerm()\n",
    "inst_term1.getAttr().setModelTerm(mt0_0)\n",
    "inst_term1.setInst(inst1)\n",
    "inst_term1.setNet(net1)\n",
    "net1.addInstTerm(inst_term1)\n",
    "inst1.addInstTerm(inst_term1)\n",
    "\n",
    "net2 = m2_design.addNet()\n",
    "net2.getAttr().setName(\"net2\")\n",
    "inst_term0 = m2_design.addInstTerm()\n",
    "inst_term0.getAttr().setModelTerm(mt0_1)\n",
    "inst_term0.setNet(net2)\n",
    "inst_term0.setInst(inst0)\n",
    "net2.addInstTerm(inst_term0)\n",
    "inst0.addInstTerm(inst_term0)\n",
    "inst_term1 = m2_design.addInstTerm()\n",
    "inst_term1.getAttr().setModelTerm(mt1_0)\n",
    "inst_term1.setNet(net2)\n",
    "inst_term1.setInst(inst2)\n",
    "net2.addInstTerm(inst_term1)\n",
    "inst2.addInstTerm(inst_term1)\n",
    "\n",
    "net3 = m2_design.addNet()\n",
    "net3.getAttr().setName(\"net3\")\n",
    "inst_term0 = m2_design.addInstTerm()\n",
    "inst_term0.getAttr().setModelTerm(mt0_1)\n",
    "inst_term0.setNet(net3)\n",
    "inst_term0.setInst(inst1)\n",
    "net3.addInstTerm(inst_term0)\n",
    "inst1.addInstTerm(inst_term0)\n",
    "inst_term1 = m2_design.addInstTerm()\n",
    "inst_term1.getAttr().setModelTerm(mt1_1)\n",
    "inst_term1.setNet(net3)\n",
    "inst_term1.setInst(inst2)\n",
    "net3.addInstTerm(inst_term1)\n",
    "inst2.addInstTerm(inst_term1)\n",
    "\n",
    "net4 = m2_design.addNet()\n",
    "net4.getAttr().setName(\"net4\")\n",
    "inst_term0 = m2_design.addInstTerm()\n",
    "inst_term0.getAttr().setModelTerm(mt1_2)\n",
    "inst_term0.setNet(net4)\n",
    "inst_term0.setInst(inst2)\n",
    "net4.addInstTerm(inst_term0)\n",
    "inst2.addInstTerm(inst_term0)\n",
    "inst_term1 = m2_design.addInstTerm()\n",
    "inst_term1.getAttr().setModelTerm(mt2_t2)\n",
    "inst_term1.setNet(net4)\n",
    "inst_term1.setInst(inst_mterm2)\n",
    "net4.addInstTerm(inst_term1)\n",
    "inst_mterm2.addInstTerm(inst_term1)"
   ]
  },
  {
   "cell_type": "markdown",
   "metadata": {},
   "source": [
    "完成module创建\n",
    "![models](models.png)"
   ]
  },
  {
   "cell_type": "code",
   "execution_count": null,
   "metadata": {},
   "outputs": [],
   "source": [
    "print(\"The database has %d models.\" % (db.numModels())) # =6\n",
    "print(\"The model2 design has %d insts.\" % (model2.getDesign().numInsts())) # =6\n",
    "print(\"The model2 design has %d nets.\" % (model2.getDesign().numNets())) # =5"
   ]
  }
 ],
 "metadata": {
  "kernelspec": {
   "display_name": "Python 2",
   "language": "python",
   "name": "python2"
  }
 },
 "nbformat": 4,
 "nbformat_minor": 2
}
